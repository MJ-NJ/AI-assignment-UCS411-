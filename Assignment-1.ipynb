{
 "cells": [
  {
   "attachments": {},
   "cell_type": "markdown",
   "metadata": {},
   "source": [
    "#### A class with 10 students wants to produce some information from the results of the four standard \n",
    "#### tests in Maths, Science, English and IT. Each test is out of 100 marks. The information output \n",
    "#### should be the highest, lowest and average mark for each test and the highest, lowest and average \n",
    "#### mark overall. Write a program in Python to complete this task."
   ]
  },
  {
   "cell_type": "code",
   "execution_count": null,
   "metadata": {},
   "outputs": [],
   "source": [
    "students = 10\n",
    "math = []\n",
    "science = []\n",
    "english = []\n",
    "it = []\n",
    "\n",
    "# Highest Lowest and avg marks of all 4\n",
    "\n",
    "#take 10 inputs from user for each subject\n",
    "\n",
    "for i in range(0,students):\n",
    "    math.append(int(input(\"Enter marks of math: \")))\n",
    "    science.append(int(input(\"Enter marks of science: \")))\n",
    "    english.append(int(input(\"Enter marks of english: \")))\n",
    "    it.append(int(input(\"Enter marks of it: \")))\n",
    "\n",
    "print(max(math), min(math), sum(math,0)/len(math))\n",
    "print(max(science), min(science), sum(science,0)/len(science))\n",
    "print(max(english), min(english), sum(english,0)/len(english))\n",
    "print(max(it), min(it), sum(it,0)/len(it))\n"
   ]
  },
  {
   "attachments": {},
   "cell_type": "markdown",
   "metadata": {},
   "source": [
    "#### Write a Python Program to input basic salary of an employee and calculate its Gross salary \n",
    "#### according to following: Basic Salary <= 10000 : HRA = 20%, DA = 80% Basic Salary <= 20000 \n",
    "#### : HRA = 25%, DA = 90% Basic Salary > 20000 : HRA = 30%, DA = 95%"
   ]
  },
  {
   "cell_type": "code",
   "execution_count": null,
   "metadata": {},
   "outputs": [],
   "source": [
    "basic_salary = int(input(\"Enter basic salary: \"))\n",
    "if basic_salary <= 10000:\n",
    "    hra = 0.2*basic_salary\n",
    "    da = 0.8*basic_salary\n",
    "    salary = hra + da + basic_salary\n",
    "    print('Gross=',salary)\n",
    "elif basic_salary <=20000:\n",
    "    hra = 0.25*basic_salary\n",
    "    da = 0.9*basic_salary\n",
    "    salary = hra + da + basic_salary\n",
    "    print('Gross=',salary)\n",
    "else:\n",
    "    hra = 0.3*basic_salary\n",
    "    da = 0.95*basic_salary\n",
    "    salary = hra + da + basic_salary\n",
    "    print('Gross=',salary)"
   ]
  },
  {
   "attachments": {},
   "cell_type": "markdown",
   "metadata": {},
   "source": [
    "#### Write a Python program to check the validity of password input by users. \n",
    "#### Validation: \n",
    "#### - At least 1 letter between [a-z] and 1 letter between [A-Z]. \n",
    "#### - At least 1 number between [0-9]. \n",
    "#### - At least 1 character from [$#@]. \n",
    "#### - Minimum length 6 characters. \n",
    "#### - Maximum length 16 characters. "
   ]
  },
  {
   "cell_type": "code",
   "execution_count": null,
   "metadata": {},
   "outputs": [],
   "source": [
    "password = input(\"Enter the password\")\n",
    "flag = 0\n",
    "if len(password) < 6 or len(password) > 16:\n",
    "    flag = -1\n",
    "if not any(char.isdigit() for char in password):\n",
    "    flag = -1\n",
    "if not any(char.isupper() for char in password):\n",
    "    flag = -1\n",
    "if not any(char.islower() for char in password):\n",
    "    flag = -1\n",
    "if not any(char in ['@','#','$','%','&','*'] for char in password):\n",
    "    flag = -1\n",
    "if flag == 0:\n",
    "    print(\"Valid Password\")\n",
    "else:\n",
    "    print(\"Invalid Password\")"
   ]
  },
  {
   "attachments": {},
   "cell_type": "markdown",
   "metadata": {},
   "source": [
    "#### Create a List L that is defined as= [10, 20, 30, 40, 50, 60, 70, 80].\n",
    "#### (i) WAP to add 200 and 300 to L. \n",
    "#### (ii) WAP to remove 10 and 30 from L.\n",
    "#### (iii) WAP to sort L in ascending order.\n",
    "#### (iv) WAP to sort L in descending order"
   ]
  },
  {
   "cell_type": "code",
   "execution_count": null,
   "metadata": {},
   "outputs": [],
   "source": [
    "l = [10,20,30,40,50,60,70,80]\n",
    "l.append(200)\n",
    "l.append(300)\n",
    "\n",
    "l.remove(10)\n",
    "l.remove(30)\n",
    "\n",
    "#ascending\n",
    "l.sort()\n",
    "l\n",
    "\n",
    "#descending\n",
    "l.sort(reverse=True)\n",
    "l"
   ]
  },
  {
   "attachments": {},
   "cell_type": "markdown",
   "metadata": {},
   "source": [
    "#### D is a dictionary defined as D= {1:”One”, 2:”Two”, 3:”Three”, 4: “Four”, 5:”Five”}.\n",
    "#### (i) WAP to add new entry in D; key=6 and value is “Six”\n",
    "#### (ii) WAP to remove key=2.\n",
    "#### (iii) WAP to check if 6 key is present in D.\n",
    "#### (iv) WAP to count the number of elements present in D.\n",
    "#### (v) WAP to add all the values present D.\n"
   ]
  },
  {
   "cell_type": "code",
   "execution_count": null,
   "metadata": {},
   "outputs": [],
   "source": [
    "d = {1:'One',2:'Two',3:'Three',4:'Four',5:'Five'}\n",
    "d[6] = 'Six'\n",
    "d\n",
    "\n",
    "del d[2]\n",
    "d\n",
    "\n",
    "#check if 6 exists in dictionary\n",
    "if 6 in d:\n",
    "    print(\"Exists\")\n",
    "else:\n",
    "    print(\"Does not exist\")\n",
    "\n",
    "#WAP to count the number of elements present in dictionary\n",
    "print(len(d))\n",
    "\n",
    "#add all the values in dictionary\n",
    "sum = 0\n",
    "for i in d:\n",
    "    sum = sum + i\n",
    "print(sum)\n"
   ]
  },
  {
   "attachments": {},
   "cell_type": "markdown",
   "metadata": {},
   "source": [
    "#### WAP to create a list of 100 random numbers between 100 and 900. Count and print the: \n",
    "(i) All odd numbers\n",
    "(ii) All even numbers\n",
    "(iii) All prime numbers\n"
   ]
  },
  {
   "cell_type": "code",
   "execution_count": null,
   "metadata": {},
   "outputs": [],
   "source": [
    "import random\n",
    "\n",
    "# Create a list of 100 random numbers between 100 and 900\n",
    "numbers = [random.randint(100, 900) for _ in range(100)]\n",
    "\n",
    "# Count and print the odd numbers\n",
    "odd_numbers = [num for num in numbers if num % 2 != 0]\n",
    "print(f\"Odd numbers ({len(odd_numbers)}): {odd_numbers}\")\n",
    "\n",
    "# Count and print the even numbers\n",
    "even_numbers = [num for num in numbers if num % 2 == 0]\n",
    "print(f\"Even numbers ({len(even_numbers)}): {even_numbers}\")\n",
    "\n",
    "# Count and print the prime numbers\n",
    "def is_prime(n):\n",
    "    if n < 2:\n",
    "        return False\n",
    "    for i in range(2, int(n**0.5) + 1):\n",
    "        if n % i == 0:\n",
    "            return False\n",
    "    return True\n",
    "\n",
    "prime_numbers = [num for num in numbers if is_prime(num)]\n",
    "print(f\"Prime numbers ({len(prime_numbers)}): {prime_numbers}\")\n"
   ]
  },
  {
   "attachments": {},
   "cell_type": "markdown",
   "metadata": {},
   "source": [
    "#### A) Make a class called Restaurant. The __init__() method for Restaurant should store two \n",
    "attributes: a restaurant_name and a cuisine_type. Make a method called describe_restaurant() \n",
    "that prints these two pieces of information, and a method called open_restaurant() that prints a \n",
    "message indicating that the restaurant is open. Make an instance called restaurant from your \n",
    "class. Print the two attributes individually, and then call both methods.\n",
    "#### B) Make a class called User. Create two attributes called first_name and last_name, and then \n",
    "create several other attributes that are typically stored in a user profile. Make a method called \n",
    "describe_user() that prints a summary of the user’s information. Make another method called \n",
    "greet_user() that prints a personalized greeting to the user. Create several instances representing \n",
    "different users, and call both method for each user"
   ]
  },
  {
   "cell_type": "code",
   "execution_count": null,
   "metadata": {},
   "outputs": [],
   "source": [
    "class restraunt:\n",
    "    def __init__(self,restraunt_name,cuisine_type):\n",
    "        self.restraunt_name = restraunt_name\n",
    "        self.cuisine_type = cuisine_type\n",
    "    def describe_restraunt(self):\n",
    "        print(\"Restraunt name is: \",self.restraunt_name)\n",
    "        print(\"Cuisine type is: \",self.cuisine_type)\n",
    "    def open_restraunt(self):\n",
    "        print(\"Restraunt is open\")"
   ]
  },
  {
   "cell_type": "code",
   "execution_count": null,
   "metadata": {},
   "outputs": [],
   "source": [
    "class user:\n",
    "    def __init__(self,first_name,last_name):\n",
    "        self.first_name = first_name\n",
    "        self.last_name = last_name\n",
    "    def describe_user(self):\n",
    "        print(self.first_name,self.last_name)\n",
    "    def greet_user(self):\n",
    "        print(\"Hello, \",self.first_name)"
   ]
  }
 ],
 "metadata": {
  "kernelspec": {
   "display_name": "Python 3",
   "language": "python",
   "name": "python3"
  },
  "language_info": {
   "codemirror_mode": {
    "name": "ipython",
    "version": 3
   },
   "file_extension": ".py",
   "mimetype": "text/x-python",
   "name": "python",
   "nbconvert_exporter": "python",
   "pygments_lexer": "ipython3",
   "version": "3.9.13"
  },
  "orig_nbformat": 4
 },
 "nbformat": 4,
 "nbformat_minor": 2
}
